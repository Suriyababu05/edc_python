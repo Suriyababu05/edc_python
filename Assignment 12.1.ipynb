{
 "cells": [
  {
   "cell_type": "code",
   "execution_count": 51,
   "id": "a547b98b",
   "metadata": {},
   "outputs": [],
   "source": [
    "import time\n",
    "\n",
    "class Cached:\n",
    "    def __init__(self, fn):\n",
    "        self.fn = fn\n",
    "        self.cache = {}\n",
    "        \n",
    "    def __call__(self, *args, **kwargs):\n",
    "        if args in self.cache:\n",
    "            print('Returned cached value')\n",
    "            return self.cache[args]\n",
    "        else:\n",
    "            res = self.fn(*args, **kwargs)\n",
    "            self.cache[args] = res\n",
    "            print(f'Returned value by {self.fn.__name__} function')\n",
    "            return res\n",
    "\n",
    "@Cached\n",
    "def factorial(n):\n",
    "    fn = 1\n",
    "    for i in range(1, n + 1):\n",
    "        time.sleep(0.5)\n",
    "        fn *= i\n",
    "    return fn\n",
    "\n"
   ]
  },
  {
   "cell_type": "code",
   "execution_count": 52,
   "id": "29a487f2",
   "metadata": {},
   "outputs": [
    {
     "name": "stdout",
     "output_type": "stream",
     "text": [
      "Returned value by factorial function\n"
     ]
    }
   ],
   "source": [
    "r1 = factorial(5)\n"
   ]
  },
  {
   "cell_type": "code",
   "execution_count": 53,
   "id": "32082278",
   "metadata": {},
   "outputs": [
    {
     "name": "stdout",
     "output_type": "stream",
     "text": [
      "120\n"
     ]
    }
   ],
   "source": [
    "print(r1)"
   ]
  },
  {
   "cell_type": "code",
   "execution_count": null,
   "id": "53ec205f",
   "metadata": {},
   "outputs": [],
   "source": []
  },
  {
   "cell_type": "code",
   "execution_count": null,
   "id": "e00fcb65",
   "metadata": {},
   "outputs": [],
   "source": []
  }
 ],
 "metadata": {
  "kernelspec": {
   "display_name": "Python 3 (ipykernel)",
   "language": "python",
   "name": "python3"
  },
  "language_info": {
   "codemirror_mode": {
    "name": "ipython",
    "version": 3
   },
   "file_extension": ".py",
   "mimetype": "text/x-python",
   "name": "python",
   "nbconvert_exporter": "python",
   "pygments_lexer": "ipython3",
   "version": "3.11.4"
  }
 },
 "nbformat": 4,
 "nbformat_minor": 5
}
