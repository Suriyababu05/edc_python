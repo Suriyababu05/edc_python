{
 "cells": [
  {
   "cell_type": "markdown",
   "id": "8faf8253",
   "metadata": {},
   "source": [
    "# Assignment 2"
   ]
  },
  {
   "cell_type": "code",
   "execution_count": 9,
   "id": "9d7959af",
   "metadata": {},
   "outputs": [
    {
     "name": "stdout",
     "output_type": "stream",
     "text": [
      "Enter a sequence of values separated by spaces: 5 5 -5 -5 3 3 -3\n",
      "Frequency Distribution:\n",
      "5: 2\n",
      "-5: 2\n",
      "3: 2\n",
      "-3: 1\n"
     ]
    }
   ],
   "source": [
    "def frequency_distribution(sequence):\n",
    "\n",
    "    freq_dict = {}\n",
    "\n",
    "    for item in sequence:\n",
    "        if item not in freq_dict:\n",
    "            freq_dict[item] = 1\n",
    "        else:\n",
    "            freq_dict[item] += 1\n",
    "\n",
    "    return freq_dict\n",
    "\n",
    "\n",
    "input_sequence = input(\"Enter a sequence of values separated by spaces: \")\n",
    "sequence = input_sequence.split()\n",
    "\n",
    "sequence = [int(item) for item in sequence]\n",
    "result = frequency_distribution(sequence)\n",
    "\n",
    "\n",
    "print(\"Frequency Distribution:\")\n",
    "for key, value in result.items():\n",
    "    print(f\"{key}: {value}\")"
   ]
  },
  {
   "cell_type": "code",
   "execution_count": 1,
   "id": "a623bbeb",
   "metadata": {},
   "outputs": [
    {
     "name": "stdout",
     "output_type": "stream",
     "text": [
      "2| ================== 6\n",
      "1| ========= 3\n",
      "9| ====== 2\n",
      "4| ========= 3\n",
      "3| === 1\n"
     ]
    }
   ],
   "source": [
    "def Histogram(a):\n",
    "    for i in a:\n",
    "        print(i,end=\"\")\n",
    "        print(\"| \"+a[i]*\"===\",a[i])\n",
    "    \n",
    "a = {2:6,1:3, 9:2,4:3,3:1}\n",
    "Histogram(a)"
   ]
  },
  {
   "cell_type": "code",
   "execution_count": 2,
   "id": "91ea176d",
   "metadata": {},
   "outputs": [
    {
     "name": "stdout",
     "output_type": "stream",
     "text": [
      "Sun\tMon\tTue\tWed\tThu\tFri\tSat\t\n",
      "\t\t\t\t\t1\t2\t\n",
      "3\t4\t5\t6\t7\t8\t9\t\n",
      "10\t11\t12\t13\t14\t15\t16\t\n",
      "17\t18\t19\t20\t21\t22\t23\t\n",
      "24\t25\t26\t27\t28\t29\t30\t\n"
     ]
    }
   ],
   "source": [
    "def is_leap_year(year):\n",
    "    return (year%100!=0 and year%4==0) or year%400==0\n",
    "\n",
    "def days_in_month(month , year=1990):\n",
    "    if month==2:\n",
    "        return 28+int(is_leap_year(year))        \n",
    "    elif (month<8 and month%2!=0) or (month>=8 and month%2==0):\n",
    "        return 31\n",
    "    else:\n",
    "        return 30\n",
    "\n",
    "\n",
    "def date_value(day ,month, year):\n",
    "    value=0\n",
    "    y=year-1\n",
    "    # total days elapsed till the end of previous year\n",
    "    value = y * 365 + y//4  - y//100 + y//400\n",
    "\n",
    "    # add total days passed till previous month of this year\n",
    "    m=1\n",
    "    while m<month:\n",
    "        #print(f'Adding {days_in_month(m,year)} for {m}/{year}')\n",
    "        value+= days_in_month(m,year)\n",
    "        m+=1\n",
    "\n",
    "    #add days of this month\n",
    "    value+=day\n",
    "    return value\n",
    "\n",
    "def date_to_week_day(date,month,year):\n",
    "    ref_date = date_value(1,1,2006)\n",
    "    input_date= date_value(date,month,year)\n",
    "    diff= (input_date-ref_date) % 7\n",
    "    return diff\n",
    "\n",
    "def calendar(month,year):\n",
    "    startDay=date_to_week_day(1,month,year)\n",
    "    week=[\"Sun\",\"Mon\",\"Tue\",\"Wed\",\"Thu\",\"Fri\",\"Sat\"]\n",
    "    days=days_in_month(month,year)\n",
    "    for i in week:\n",
    "        print(i,end=\"\\t\")\n",
    "    print()\n",
    "    d=1\n",
    "    i=0\n",
    "    while(d<=days):\n",
    "        if(i==0):\n",
    "            print((startDay-1)*\"\\t\",end=\"\\t\")\n",
    "            i+=1\n",
    "        elif(i==1):\n",
    "            startDay=0\n",
    "            i+=1\n",
    "        for j in range(startDay,7):\n",
    "            print(d,end='\\t')\n",
    "            # if(d<10):\n",
    "            #     print(d,end=\"\\t\")\n",
    "            # else:\n",
    "            #     print(d,end=\"  \")\n",
    "            d+=1\n",
    "        print()\n",
    "\n",
    "calendar(9,2023)"
   ]
  },
  {
   "cell_type": "code",
   "execution_count": null,
   "id": "4d08cd3a",
   "metadata": {},
   "outputs": [],
   "source": []
  },
  {
   "cell_type": "code",
   "execution_count": null,
   "id": "6ea9cd43",
   "metadata": {},
   "outputs": [],
   "source": []
  },
  {
   "cell_type": "code",
   "execution_count": null,
   "id": "216ee414",
   "metadata": {},
   "outputs": [],
   "source": []
  },
  {
   "cell_type": "code",
   "execution_count": null,
   "id": "d4f3ba64",
   "metadata": {},
   "outputs": [],
   "source": []
  },
  {
   "cell_type": "code",
   "execution_count": null,
   "id": "d3d1fef4",
   "metadata": {},
   "outputs": [],
   "source": []
  },
  {
   "cell_type": "code",
   "execution_count": null,
   "id": "0d3c819b",
   "metadata": {},
   "outputs": [],
   "source": []
  },
  {
   "cell_type": "code",
   "execution_count": null,
   "id": "861cb690",
   "metadata": {},
   "outputs": [],
   "source": []
  },
  {
   "cell_type": "code",
   "execution_count": null,
   "id": "4dca6a04",
   "metadata": {},
   "outputs": [],
   "source": []
  }
 ],
 "metadata": {
  "kernelspec": {
   "display_name": "Python 3 (ipykernel)",
   "language": "python",
   "name": "python3"
  },
  "language_info": {
   "codemirror_mode": {
    "name": "ipython",
    "version": 3
   },
   "file_extension": ".py",
   "mimetype": "text/x-python",
   "name": "python",
   "nbconvert_exporter": "python",
   "pygments_lexer": "ipython3",
   "version": "3.11.4"
  }
 },
 "nbformat": 4,
 "nbformat_minor": 5
}
