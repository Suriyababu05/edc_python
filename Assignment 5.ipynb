{
 "cells": [
  {
   "cell_type": "code",
   "execution_count": 4,
   "id": "a4d36366",
   "metadata": {},
   "outputs": [],
   "source": [
    "class Triangle:\n",
    "    pass\n"
   ]
  },
  {
   "cell_type": "code",
   "execution_count": 8,
   "id": "55345206",
   "metadata": {},
   "outputs": [],
   "source": [
    "t1= Triangle()"
   ]
  },
  {
   "cell_type": "code",
   "execution_count": 10,
   "id": "11269370",
   "metadata": {},
   "outputs": [],
   "source": [
    "def members(obj):\n",
    "    return [member for member in dir(obj) if not member.startswith(\"__\")]"
   ]
  },
  {
   "cell_type": "code",
   "execution_count": 11,
   "id": "c2ec4a90",
   "metadata": {},
   "outputs": [
    {
     "data": {
      "text/plain": [
       "[]"
      ]
     },
     "execution_count": 11,
     "metadata": {},
     "output_type": "execute_result"
    }
   ],
   "source": [
    "t=Triangle()\n",
    "members(t)"
   ]
  },
  {
   "cell_type": "code",
   "execution_count": 13,
   "id": "da8abc9a",
   "metadata": {},
   "outputs": [
    {
     "data": {
      "text/plain": [
       "['s1', 's2', 's3']"
      ]
     },
     "execution_count": 13,
     "metadata": {},
     "output_type": "execute_result"
    }
   ],
   "source": [
    "t.s1=3\n",
    "t.s2=4\n",
    "t.s3=5\n",
    "members(t)\n",
    "t.s1=3\n",
    "t.s2=4\n",
    "t.s3=5\n",
    "members(t)"
   ]
  },
  {
   "cell_type": "code",
   "execution_count": 14,
   "id": "ce0aed21",
   "metadata": {},
   "outputs": [],
   "source": [
    "def perimeter(t):\n",
    "    if t.s1>0 and t.s2>0 and t.s3>0 and \\\n",
    "        t.s1+t.s2 > t.s3 and \\\n",
    "        t.s2+t.s3 > t.s1 and \\\n",
    "        t.s1+t.s3 > t.s2:\n",
    "        return t.s1+t.s2+t.s3\n",
    "    else:\n",
    "        return float('nan')"
   ]
  },
  {
   "cell_type": "code",
   "execution_count": 15,
   "id": "641b2e50",
   "metadata": {},
   "outputs": [],
   "source": [
    "t1 = Triangle()\n",
    "t1.s1=3\n",
    "t1.s2=4\n",
    "t1.s3=5\n",
    "\n",
    "#invalid triangle\n",
    "t2 = Triangle()\n",
    "t2.s1=4\n",
    "t2.s2=8\n",
    "t2.s3=16  \n"
   ]
  },
  {
   "cell_type": "code",
   "execution_count": 16,
   "id": "9a3f95b0",
   "metadata": {},
   "outputs": [
    {
     "name": "stdout",
     "output_type": "stream",
     "text": [
      "12\n"
     ]
    }
   ],
   "source": [
    "print(perimeter(t1))"
   ]
  },
  {
   "cell_type": "code",
   "execution_count": 2,
   "id": "b150d8f2",
   "metadata": {},
   "outputs": [
    {
     "name": "stdout",
     "output_type": "stream",
     "text": [
      "Circle Radius: 6\n",
      "Circumference: 37.69911184307752\n",
      "Area: 113.09733552923255\n"
     ]
    }
   ],
   "source": [
    "from math import pi\n",
    "\n",
    "class Circle:\n",
    "    pass\n",
    "\n",
    "def create_circle(radius):\n",
    "    c = Circle()\n",
    "    c.radius = radius\n",
    "    return c\n",
    "\n",
    "def is_valid_circle(c):\n",
    "    return isinstance(c, Circle) and c.radius > 0\n",
    "\n",
    "def circumference(c):\n",
    "    return 2 * pi * c.radius if is_valid_circle(c) else float('nan')\n",
    "\n",
    "def area_of_circle(c):\n",
    "    return pi * c.radius**2 if is_valid_circle(c) else float('nan')\n",
    "\n",
    "def circle_info(c):\n",
    "    return f'Circle Radius: {c.radius}' if is_valid_circle(c) else 'Invalid Circle'\n",
    "\n",
    "def draw_circle(c):\n",
    "    print(circle_info(c))\n",
    "\n",
    "\n",
    "circle = create_circle(6)\n",
    "draw_circle(circle)\n",
    "print(f'Circumference: {circumference(circle)}')\n",
    "print(f'Area: {area_of_circle(circle)}')"
   ]
  },
  {
   "cell_type": "code",
   "execution_count": 9,
   "id": "6ec14acd",
   "metadata": {},
   "outputs": [
    {
     "name": "stdout",
     "output_type": "stream",
     "text": [
      "Account Number: 987654321\n",
      "Name: Suriya\n",
      "Balance: 1000\n",
      "Interest Rate: 3%\n",
      "Deposit successful. New balance: 1001\n",
      "Withdrawal failed. Insufficient balance.\n",
      "Interest credited. New balance: 1003.5025\n"
     ]
    }
   ],
   "source": [
    "class BankAccount:\n",
    "    account_number = \"\"\n",
    "    name = \"\"\n",
    "    password = \"\"\n",
    "    balance = 0\n",
    "    interest_rate = 0\n",
    "\n",
    "    @classmethod\n",
    "    def create_account(self, account_number, name, password, initial_balance, interest_rate):\n",
    "        self.account_number = account_number\n",
    "        self.name = name\n",
    "        self.password = password\n",
    "        self.balance = initial_balance\n",
    "        self.interest_rate = interest_rate\n",
    "\n",
    "    @classmethod\n",
    "    def deposit(self, amount):\n",
    "        if amount > 0:\n",
    "            self.balance += amount\n",
    "            return f'Deposit successful. New balance: {self.balance}'\n",
    "        else:\n",
    "            return 'Deposit failed. Amount must be greater than 0.'\n",
    "\n",
    "    @classmethod\n",
    "    def withdraw(self, amount, entered_password):\n",
    "        if amount <= 0:\n",
    "            return 'Withdrawal failed. Amount must be greater than 0.'\n",
    "        elif amount > self.balance:\n",
    "            return 'Withdrawal failed. Insufficient balance.'\n",
    "        elif entered_password != self.password:\n",
    "            return 'Withdrawal failed. Incorrect password.'\n",
    "        else:\n",
    "            self.balance -= amount\n",
    "            return f'Withdrawal successful. New balance: {self.balance}'\n",
    "\n",
    "    @classmethod\n",
    "    def credit_interest(self):\n",
    "        monthly_interest = (self.balance * self.interest_rate) / 1200\n",
    "        self.balance += monthly_interest\n",
    "        return f'Interest credited. New balance: {self.balance}'\n",
    "\n",
    "    @classmethod\n",
    "    def info(self):\n",
    "        return f'Account Number: {self.account_number}\\nName: {self.name}\\nBalance: {self.balance}\\nInterest Rate: {self.interest_rate}%'\n",
    "\n",
    "\n",
    "BankAccount.create_account(\"987654321\", \"Suriya\", \"Pass\", 1000, 3)\n",
    "print(BankAccount.info())\n",
    "print(BankAccount.deposit(1))\n",
    "print(BankAccount.withdraw(2500, \"mypassword\"))\n",
    "print(BankAccount.credit_interest())"
   ]
  },
  {
   "cell_type": "code",
   "execution_count": null,
   "id": "51b01292",
   "metadata": {},
   "outputs": [],
   "source": []
  },
  {
   "cell_type": "code",
   "execution_count": null,
   "id": "f5ce1cac",
   "metadata": {},
   "outputs": [],
   "source": []
  },
  {
   "cell_type": "code",
   "execution_count": null,
   "id": "cb4a3a31",
   "metadata": {},
   "outputs": [],
   "source": []
  }
 ],
 "metadata": {
  "kernelspec": {
   "display_name": "Python 3 (ipykernel)",
   "language": "python",
   "name": "python3"
  },
  "language_info": {
   "codemirror_mode": {
    "name": "ipython",
    "version": 3
   },
   "file_extension": ".py",
   "mimetype": "text/x-python",
   "name": "python",
   "nbconvert_exporter": "python",
   "pygments_lexer": "ipython3",
   "version": "3.11.4"
  }
 },
 "nbformat": 4,
 "nbformat_minor": 5
}
