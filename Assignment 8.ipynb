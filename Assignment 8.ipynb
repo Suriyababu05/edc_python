{
 "cells": [
  {
   "cell_type": "code",
   "execution_count": 118,
   "id": "08b3e784",
   "metadata": {},
   "outputs": [],
   "source": [
    "class Node:\n",
    "    def __init__(self, value,next=None, previous=None):\n",
    "        self._value=value\n",
    "        self._next=next\n",
    "        self._previous=previous\n",
    "        \n",
    "        \n",
    "class LinkedList:\n",
    "    def __init__(self, *args):\n",
    "        self._first=None\n",
    "        self.append(*args)\n",
    "        self._element_count={}\n",
    "\n",
    "    def append(self, *args):\n",
    "        for value in args:\n",
    "            self._append(value)\n",
    "\n",
    "\n",
    "    def _append(self, value):\n",
    "        if self._first==None: # list is empty\n",
    "            self._first=Node(value)\n",
    "        else: # add to the end of a non-empty list\n",
    "            n=self._first\n",
    "            while n._next:\n",
    "                n=n._next\n",
    "            n._next=Node(value, previous=n)\n",
    "\n",
    "    #def info(self):\n",
    "    def __str__(self):\n",
    "        if self._first==None: \n",
    "            return \"LinkedList(empty)\"\n",
    "        str=\"LinkedList(\\t\"\n",
    "        n=self._first\n",
    "        while n:\n",
    "            str+=f'{n._value}\\t'\n",
    "            n=n._next\n",
    "        str+=\")\"\n",
    "        return str\n",
    "\n",
    "    #def size(self):\n",
    "    def __len__(self):\n",
    "        c=0\n",
    "        n=self._first\n",
    "        while n:\n",
    "            c+=1\n",
    "            n=n._next\n",
    "        return c\n",
    "\n",
    "    def __locate(self,index):\n",
    "        if index>=len(self):\n",
    "            raise IndexError(f'Invalid Index :{index}')\n",
    "        \n",
    "        n=self._first\n",
    "        for i in range(index):\n",
    "            n=n._next\n",
    "            \n",
    "        return n\n",
    "             \n",
    "    #def get(self,index):\n",
    "    def __getitem__(self,index):\n",
    "        n=self.__locate(index)\n",
    "        return n._value  #if n else None\n",
    "    \n",
    "\n",
    "    #def set(self,index,value):\n",
    "    def __setitem__(self,index,value):\n",
    "        n=self.__locate(index)\n",
    "        n._value=value\n",
    "\n",
    "    def insert(self, index, value):\n",
    "        y=self.__locate(index)\n",
    "        x=y._previous \n",
    "\n",
    "        new_node=Node(value,previous=x,next=y)\n",
    "        \n",
    "        if x:\n",
    "            x._next=new_node\n",
    "        else:\n",
    "            self._first=new_node\n",
    "\n",
    "        y._previous=new_node\n",
    "\n",
    "    def remove(self, index):\n",
    "        n=self.__locate(index)\n",
    "        \n",
    "        x= n._previous\n",
    "        y= n._next\n",
    "\n",
    "        if x:\n",
    "            x._next=y\n",
    "        else:\n",
    "            self._first=y\n",
    "\n",
    "        if y:\n",
    "            y._previous=x\n",
    "        return n._value\n",
    "    if value in self._element_count:\n",
    "        self._element_count[value] += 1\n",
    "    else:\n",
    "        self._element_count[value] = 1\n",
    "        self._count += 1\n",
    "\n",
    "    def count(self, item):\n",
    "        if item in self._element_count:\n",
    "            return self._element_count[item]\n",
    "        else:\n",
    "            return 0\n",
    "    \n",
    "    "
   ]
  },
  {
   "cell_type": "code",
   "execution_count": null,
   "id": "a8e3c56b",
   "metadata": {},
   "outputs": [],
   "source": [
    "\n"
   ]
  },
  {
   "cell_type": "code",
   "execution_count": 107,
   "id": "9320fb81",
   "metadata": {},
   "outputs": [
    {
     "name": "stdout",
     "output_type": "stream",
     "text": [
      "LinkedList(empty)\n",
      "0\n"
     ]
    }
   ],
   "source": [
    "l=LinkedList()\n",
    "print(l)\n",
    "print(len(l))"
   ]
  },
  {
   "cell_type": "code",
   "execution_count": null,
   "id": "82d2d620",
   "metadata": {},
   "outputs": [],
   "source": [
    "for x in [2,3,9,2,5]:\n",
    "    l.append(x)\n",
    "\n",
    "print(l)\n",
    "print(len(l))"
   ]
  },
  {
   "cell_type": "code",
   "execution_count": null,
   "id": "b3322e6c",
   "metadata": {},
   "outputs": [],
   "source": [
    "for i in range(len(l)):\n",
    "    print(l[i])\n",
    "    l[i]*=3\n",
    "\n",
    "print(l)"
   ]
  },
  {
   "cell_type": "code",
   "execution_count": null,
   "id": "7f9c83c9",
   "metadata": {},
   "outputs": [],
   "source": [
    "l2=LinkedList(5,9,2,1)\n",
    "print(l2)\n",
    "\n",
    "l2.append(8,2,4,1)\n",
    "\n",
    "print(l2)"
   ]
  },
  {
   "cell_type": "code",
   "execution_count": null,
   "id": "a368d46b",
   "metadata": {},
   "outputs": [],
   "source": [
    "print(l[2])\n"
   ]
  },
  {
   "cell_type": "code",
   "execution_count": null,
   "id": "0b1533a9",
   "metadata": {},
   "outputs": [],
   "source": [
    "def create_list(size):\n",
    "    l=LinkedList()\n",
    "    for x in range(1,size+1):\n",
    "        l.append(x)\n",
    "\n",
    "    return l"
   ]
  },
  {
   "cell_type": "code",
   "execution_count": null,
   "id": "9302d405",
   "metadata": {},
   "outputs": [],
   "source": [
    "max=10"
   ]
  },
  {
   "cell_type": "code",
   "execution_count": 123,
   "id": "3318b06c",
   "metadata": {},
   "outputs": [
    {
     "name": "stdout",
     "output_type": "stream",
     "text": [
      "LinkedList(\t1\t2\t3\t4\t5\t)\n"
     ]
    }
   ],
   "source": [
    "ll= create_list(5)\n",
    "print(ll)"
   ]
  },
  {
   "cell_type": "code",
   "execution_count": 56,
   "id": "be0f0bb5",
   "metadata": {},
   "outputs": [
    {
     "name": "stdout",
     "output_type": "stream",
     "text": [
      "Total time taken to create list is 0.0\n"
     ]
    }
   ],
   "source": [
    "import time\n",
    "\n",
    "start=time.time()\n",
    "ll=create_list(max)\n",
    "end=time.time()\n",
    "print(f'Total time taken to create list is {end-start}')"
   ]
  },
  {
   "cell_type": "code",
   "execution_count": 124,
   "id": "8c0c1e2c",
   "metadata": {},
   "outputs": [
    {
     "name": "stdout",
     "output_type": "stream",
     "text": [
      "Total time taken to create list is 0.0\n"
     ]
    }
   ],
   "source": [
    "import time\n",
    "\n",
    "start=time.time()\n",
    "l.append(50)\n",
    "end=time.time()\n",
    "print(f'Total time taken to create list is {end-start}')"
   ]
  },
  {
   "cell_type": "code",
   "execution_count": 58,
   "id": "998e2426",
   "metadata": {},
   "outputs": [
    {
     "name": "stdout",
     "output_type": "stream",
     "text": [
      "LinkedList(\t1\t2\t3\t4\t5\t6\t7\t8\t9\t10\t101\t50\t50\t)\n"
     ]
    }
   ],
   "source": [
    "print(l)"
   ]
  },
  {
   "cell_type": "code",
   "execution_count": 59,
   "id": "cc0ed9f4",
   "metadata": {},
   "outputs": [],
   "source": [
    "import time\n",
    "\n",
    "\n",
    "def _getitem_(self, index):\n",
    "    if index < 0 or index >= self._count:\n",
    "        raise IndexError(f'Invalid Index: {index}')\n",
    "\n",
    "    if index < self._count // 2:\n",
    "        n = self._first\n",
    "        for _ in range(index):\n",
    "            n = n._next\n",
    "    else:\n",
    "        n = self._last\n",
    "        for _ in range(self._count - 1, index, -1):\n",
    "            n = n._previous\n",
    "    return n._value\n",
    "\n",
    "\n"
   ]
  },
  {
   "cell_type": "code",
   "execution_count": 61,
   "id": "fa7f3e29",
   "metadata": {},
   "outputs": [
    {
     "name": "stdout",
     "output_type": "stream",
     "text": [
      "Total time taken to access an item: 0.0 seconds\n",
      "Value at index 50: 3\n"
     ]
    }
   ],
   "source": [
    "start = time.time()\n",
    "value = l[2]  \n",
    "end = time.time()\n",
    "print(f'Total time taken to access an item: {end - start} seconds')\n",
    "\n",
    "\n",
    "print(f'Value at index 50: {value}')"
   ]
  },
  {
   "cell_type": "code",
   "execution_count": 69,
   "id": "026f092e",
   "metadata": {},
   "outputs": [
    {
     "name": "stdout",
     "output_type": "stream",
     "text": [
      "Item exists: False\n",
      "Time taken: 0.0 seconds\n"
     ]
    }
   ],
   "source": [
    "def _contains_(self, item):\n",
    "        n = self._first\n",
    "        while n:\n",
    "            if n._value == item:\n",
    "                return True\n",
    "            n = n._next\n",
    "        return False\n",
    "\n",
    "start_time = time.time()\n",
    "item_exists= 2000 in l\n",
    "end_time = time.time()\n",
    "\n",
    "print(f\"Item exists: {item_exists}\")\n",
    "print(f\"Time taken: {end_time - start_time} seconds\")\n",
    "\n"
   ]
  },
  {
   "cell_type": "code",
   "execution_count": null,
   "id": "e7190326",
   "metadata": {},
   "outputs": [],
   "source": [
    "start_time = time.time()\n",
    "count= l.count(5)\n",
    "end_time = time.time()\n",
    "\n",
    "print(f\"Count of '5' in the linked list: {count}\")\n",
    "print(f\"Time taken to count: {end_time - start_time} seconds\")"
   ]
  },
  {
   "cell_type": "code",
   "execution_count": 119,
   "id": "c2901ba3",
   "metadata": {},
   "outputs": [],
   "source": [
    "  def remove(self, index):\n",
    "        if index < 0 or index >= self._count:\n",
    "            raise IndexError(f'Invalid Index: {index}')\n",
    "\n",
    "        if index == 0:\n",
    "            self._first = self._first._next\n",
    "            if self._first:\n",
    "                self._first._previous = None\n",
    "            else:\n",
    "                self._last = None\n",
    "        elif index == self._count - 1:\n",
    "            self._last = self._last._previous\n",
    "            if self._last:\n",
    "                self._last._next = None\n",
    "            else:\n",
    "                self._first = None\n",
    "        else:\n",
    "            n = self._first\n",
    "            for _ in range(index):\n",
    "                n = n._next\n",
    "            n._previous._next = n._next\n",
    "            n._next._previous = n._previous\n",
    "\n",
    "        self._count -= 1\n",
    "\n",
    "\n"
   ]
  },
  {
   "cell_type": "code",
   "execution_count": 128,
   "id": "5237c767",
   "metadata": {},
   "outputs": [
    {
     "name": "stdout",
     "output_type": "stream",
     "text": [
      "Time taken to remove all items: 0.0005643367767333984 seconds\n"
     ]
    }
   ],
   "source": [
    "start_time = time.time()\n",
    "while l:\n",
    "    l.remove(0)\n",
    "end_time = time.time()\n",
    "\n",
    "print(f\"Time taken to remove all items: {end_time - start_time} seconds\")"
   ]
  },
  {
   "cell_type": "code",
   "execution_count": 129,
   "id": "d16b7e57",
   "metadata": {},
   "outputs": [
    {
     "name": "stdout",
     "output_type": "stream",
     "text": [
      "LinkedList(empty)\n"
     ]
    }
   ],
   "source": [
    "print (l)\n"
   ]
  },
  {
   "cell_type": "code",
   "execution_count": null,
   "id": "4f4155a0",
   "metadata": {},
   "outputs": [],
   "source": []
  }
 ],
 "metadata": {
  "kernelspec": {
   "display_name": "Python 3 (ipykernel)",
   "language": "python",
   "name": "python3"
  },
  "language_info": {
   "codemirror_mode": {
    "name": "ipython",
    "version": 3
   },
   "file_extension": ".py",
   "mimetype": "text/x-python",
   "name": "python",
   "nbconvert_exporter": "python",
   "pygments_lexer": "ipython3",
   "version": "3.11.4"
  }
 },
 "nbformat": 4,
 "nbformat_minor": 5
}
