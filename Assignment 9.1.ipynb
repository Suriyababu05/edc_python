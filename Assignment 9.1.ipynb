{
 "cells": [
  {
   "cell_type": "code",
   "execution_count": 69,
   "id": "dc847db3",
   "metadata": {},
   "outputs": [],
   "source": [
    "class LinkedList:\n",
    "    def __init__(self):\n",
    "        self._first=None\n",
    "\n",
    "    def append(self, value):\n",
    "        if self._first==None: # list is empty\n",
    "            self._first=Node(value)\n",
    "        else: # add to the end of a non-empty list\n",
    "            n=self._first\n",
    "            while n._next:\n",
    "                n=n._next\n",
    "            n._next=Node(value, previous=n)\n",
    "\n",
    "    def info(self):\n",
    "        if self._first==None: \n",
    "            return \"LinkedList(empty)\"\n",
    "        str=\"LinkedList(\\t\"\n",
    "        n=self._first\n",
    "        while n:\n",
    "            str+=f'{n._value}\\t'\n",
    "            n=n._next\n",
    "        str+=\")\"\n",
    "        return str\n",
    "\n",
    "    def size(self):\n",
    "        c=0\n",
    "        n=self._first\n",
    "        while n:\n",
    "            c+=1\n",
    "            n=n._next\n",
    "        return c"
   ]
  },
  {
   "cell_type": "code",
   "execution_count": 74,
   "id": "6e837edd",
   "metadata": {},
   "outputs": [],
   "source": [
    "class Book:\n",
    "    def __init__(self, title, author, price,rating):\n",
    "        self.title=title\n",
    "        self.author=author\n",
    "        self.price=price\n",
    "        self.rating=rating\n",
    "        \n",
    "    def __str__(self):\n",
    "        return f'{self.title.ljust(30)}{self.author.ljust(20)}{str(self.price).ljust(15)}{str(self.rating).ljust(15)}'\n",
    "    \n",
    "    def __repr__(self):\n",
    "        return str(self)"
   ]
  },
  {
   "cell_type": "code",
   "execution_count": 75,
   "id": "74311acb",
   "metadata": {},
   "outputs": [],
   "source": [
    "books=LinkedList()\n"
   ]
  },
  {
   "cell_type": "code",
   "execution_count": null,
   "id": "273e51fd",
   "metadata": {},
   "outputs": [],
   "source": [
    "books=LinkedList(\n",
    "        Book('The Accursed God', 'Vivek Dutta Mishra', 299,4.5),\n",
    "        Book('Kane And Abel', 'Jeffrey Archer', 450,4.6),\n",
    "        Book('Sons of Fortune', 'Jeffrey Archer', 400,4.1),\n",
    "        Book('Manas','Vivek Dutta Mishra', 199,4.7),\n",
    "        Book('Brethren', 'John Grisham', 250, 3.9))"
   ]
  },
  {
   "cell_type": "code",
   "execution_count": null,
   "id": "bf818366",
   "metadata": {},
   "outputs": [],
   "source": [
    "import time\n",
    "\n",
    "def find(list, fn_match):\n",
    "    result=[]\n",
    "    for item in list:\n",
    "        time.sleep(.5) #delay .5 sec\n",
    "        if fn_match(item):\n",
    "            result.append(item)\n",
    "            \n",
    "    return result\n",
    "find(books, lambda b: b.price<200)"
   ]
  },
  {
   "cell_type": "code",
   "execution_count": null,
   "id": "26fc608c",
   "metadata": {},
   "outputs": [],
   "source": [
    "import time \n",
    "def add_book(list,item):\n",
    "    time.sleep(1)\n",
    "    list.append(item)\n",
    "    \n",
    "add_book(books, Book('Sins of Father', 'Jeffrey Archer', 300,4.1))"
   ]
  },
  {
   "cell_type": "code",
   "execution_count": null,
   "id": "20cf27e3",
   "metadata": {},
   "outputs": [],
   "source": [
    "find(books, lambda b: True)"
   ]
  },
  {
   "cell_type": "code",
   "execution_count": 62,
   "id": "28d90125",
   "metadata": {},
   "outputs": [],
   "source": [
    "class Book:\n",
    "    def __init__(self, book_id, title, author, price, rating):\n",
    "        self.id = book_id\n",
    "        self.title = title\n",
    "        self.author = author\n",
    "        self.price = price\n",
    "        self.rating = rating\n",
    "\n",
    "class library:\n",
    "    def __init__(self):\n",
    "        self.books = []\n",
    "\n",
    "    def add_book(self, book):\n",
    "        self.books.append(book)\n",
    "\n",
    "    def find_by_id(self, book_id):\n",
    "        return [book for book in self.books if book.id == book_id]\n",
    "\n",
    "    def find_by_author(self, author_name):\n",
    "        return [book for book in self.books if book.author == author_name]\n",
    "\n",
    "    def find_by_rating(self, min_rating, max_rating):\n",
    "        return [book for book in self.books if min_rating <= book.rating <= max_rating]\n",
    "\n",
    "    def find_by_price(self, min_price, max_price):\n",
    "        return [book for book in self.books if min_price <= book.price <= max_price]\n",
    "    \n",
    "    def info(self):\n",
    "        for i in self.books:\n",
    "            print(f\"{i.id},{i.title},{i.author},{i.price},{i.rating}\")"
   ]
  },
  {
   "cell_type": "code",
   "execution_count": 63,
   "id": "a1351065",
   "metadata": {},
   "outputs": [
    {
     "name": "stdout",
     "output_type": "stream",
     "text": [
      "Books list:\n",
      "1,python,Gudio,300,1\n",
      "2,Java,James,100,5\n",
      "finding book by id=1: \n",
      "finding book by author=Suriya:\n",
      "finding books by rating between 2 and 5\n",
      "finding book by price between 100 and 200\n"
     ]
    },
    {
     "data": {
      "text/plain": [
       "[<__main__.Book at 0x1f9e52cdd90>]"
      ]
     },
     "execution_count": 63,
     "metadata": {},
     "output_type": "execute_result"
    }
   ],
   "source": [
    "b1=Book(1,\"python\",\"Gudio\",300,1)\n",
    "b2=Book(2,\"Java\",\"James\",100,5)\n",
    "\n",
    "l=library()\n",
    "l.add_book(b1)\n",
    "l.add_book(b2)\n",
    "\n",
    "print(\"Books list:\")\n",
    "l.info()\n",
    "\n",
    "print(\"finding book by id=1: \")\n",
    "l.find_by_id(1)\n",
    "\n",
    "print(\"finding book by author=Suriya:\")\n",
    "l.find_by_author(\"James\")\n",
    "\n",
    "print(\"finding books by rating between 2 and 5\")\n",
    "l.find_by_rating(2,5)\n",
    "\n",
    "print(\"finding book by price between 100 and 200\")\n",
    "l.find_by_price(100,200)"
   ]
  },
  {
   "cell_type": "code",
   "execution_count": 66,
   "id": "71e9eb49",
   "metadata": {},
   "outputs": [],
   "source": [
    "class Book:\n",
    "    def __init__(self, book_id, title, author, price, rating):\n",
    "        self.id = book_id\n",
    "        self.title = title\n",
    "        self.author = author\n",
    "        self.price = price\n",
    "        self.rating = rating\n",
    "\n",
    "class library:\n",
    "    def __init__(self):\n",
    "        self.books = []\n",
    "\n",
    "    def add_book(self, book):\n",
    "        self.books.append(book)\n",
    "\n",
    "    def find_by_id(self, book_id):\n",
    "        for book in self.books:\n",
    "            if book.id == book_id:\n",
    "                print(f\"{book.id},{book.title},{book.author},{book.price},{book.rating}\")\n",
    "        return None\n",
    "        \n",
    "    def find_by_author(self, author_name):\n",
    "        for book in self.books:\n",
    "            if book.author == author_name:\n",
    "                print(f\"{book.id},{book.title},{book.author},{book.price},{book.rating}\")\n",
    "        return None\n",
    "\n",
    "    def find_by_rating(self, min_rating, max_rating):\n",
    "        for book in self.books:\n",
    "            if min_rating <= book.rating <= max_rating:\n",
    "                print(f\"{book.id},{book.title},{book.author},{book.price},{book.rating}\")\n",
    "        return None\n",
    "                \n",
    "\n",
    "    def find_by_price(self, min_price, max_price):\n",
    "        for book in self.book:\n",
    "            if min_price <= book.price <= max_price:\n",
    "                print(f\"{book.id},{book.title},{book.author},{book.price},{book.rating}\")\n",
    "        return None\n",
    "    \n",
    "    def info(self):\n",
    "        for i in self.books:\n",
    "            print(f\"{i.id},{i.title},{i.author},{i.price},{i.rating}\")"
   ]
  },
  {
   "cell_type": "code",
   "execution_count": 67,
   "id": "2cdb9287",
   "metadata": {},
   "outputs": [
    {
     "name": "stdout",
     "output_type": "stream",
     "text": [
      "Books list:\n",
      "1,python,Gudio,300,1\n",
      "2,Java,James,100,5\n",
      "finding book by id=1: \n",
      "1,python,Gudio,300,1\n",
      "finding book by author=Suriya:\n",
      "2,Java,James,100,5\n",
      "finding books by rating between 2 and 5\n",
      "2,Java,James,100,5\n",
      "finding book by price between 100 and 200\n"
     ]
    },
    {
     "ename": "AttributeError",
     "evalue": "'library' object has no attribute 'book'",
     "output_type": "error",
     "traceback": [
      "\u001b[1;31m---------------------------------------------------------------------------\u001b[0m",
      "\u001b[1;31mAttributeError\u001b[0m                            Traceback (most recent call last)",
      "Cell \u001b[1;32mIn[67], line 21\u001b[0m\n\u001b[0;32m     18\u001b[0m l\u001b[38;5;241m.\u001b[39mfind_by_rating(\u001b[38;5;241m2\u001b[39m,\u001b[38;5;241m5\u001b[39m)\n\u001b[0;32m     20\u001b[0m \u001b[38;5;28mprint\u001b[39m(\u001b[38;5;124m\"\u001b[39m\u001b[38;5;124mfinding book by price between 100 and 200\u001b[39m\u001b[38;5;124m\"\u001b[39m)\n\u001b[1;32m---> 21\u001b[0m l\u001b[38;5;241m.\u001b[39mfind_by_price(\u001b[38;5;241m100\u001b[39m,\u001b[38;5;241m200\u001b[39m)\n",
      "Cell \u001b[1;32mIn[66], line 36\u001b[0m, in \u001b[0;36mlibrary.find_by_price\u001b[1;34m(self, min_price, max_price)\u001b[0m\n\u001b[0;32m     35\u001b[0m \u001b[38;5;28;01mdef\u001b[39;00m \u001b[38;5;21mfind_by_price\u001b[39m(\u001b[38;5;28mself\u001b[39m, min_price, max_price):\n\u001b[1;32m---> 36\u001b[0m     \u001b[38;5;28;01mfor\u001b[39;00m book \u001b[38;5;129;01min\u001b[39;00m \u001b[38;5;28mself\u001b[39m\u001b[38;5;241m.\u001b[39mbook:\n\u001b[0;32m     37\u001b[0m         \u001b[38;5;28;01mif\u001b[39;00m min_price \u001b[38;5;241m<\u001b[39m\u001b[38;5;241m=\u001b[39m book\u001b[38;5;241m.\u001b[39mprice \u001b[38;5;241m<\u001b[39m\u001b[38;5;241m=\u001b[39m max_price:\n\u001b[0;32m     38\u001b[0m             \u001b[38;5;28mprint\u001b[39m(\u001b[38;5;124mf\u001b[39m\u001b[38;5;124m\"\u001b[39m\u001b[38;5;132;01m{\u001b[39;00mbook\u001b[38;5;241m.\u001b[39mid\u001b[38;5;132;01m}\u001b[39;00m\u001b[38;5;124m,\u001b[39m\u001b[38;5;132;01m{\u001b[39;00mbook\u001b[38;5;241m.\u001b[39mtitle\u001b[38;5;132;01m}\u001b[39;00m\u001b[38;5;124m,\u001b[39m\u001b[38;5;132;01m{\u001b[39;00mbook\u001b[38;5;241m.\u001b[39mauthor\u001b[38;5;132;01m}\u001b[39;00m\u001b[38;5;124m,\u001b[39m\u001b[38;5;132;01m{\u001b[39;00mbook\u001b[38;5;241m.\u001b[39mprice\u001b[38;5;132;01m}\u001b[39;00m\u001b[38;5;124m,\u001b[39m\u001b[38;5;132;01m{\u001b[39;00mbook\u001b[38;5;241m.\u001b[39mrating\u001b[38;5;132;01m}\u001b[39;00m\u001b[38;5;124m\"\u001b[39m)\n",
      "\u001b[1;31mAttributeError\u001b[0m: 'library' object has no attribute 'book'"
     ]
    }
   ],
   "source": [
    "b1=Book(1,\"python\",\"Gudio\",300,1)\n",
    "b2=Book(2,\"Java\",\"James\",100,5)\n",
    "\n",
    "l=library()\n",
    "l.add_book(b1)\n",
    "l.add_book(b2)\n",
    "\n",
    "print(\"Books list:\")\n",
    "l.info()\n",
    "\n",
    "print(\"finding book by id=1: \")\n",
    "l.find_by_id(1)\n",
    "\n",
    "print(\"finding book by author=Suriya:\")\n",
    "l.find_by_author(\"James\")\n",
    "\n",
    "print(\"finding books by rating between 2 and 5\")\n",
    "l.find_by_rating(2,5)\n",
    "\n",
    "print(\"finding book by price between 100 and 200\")\n",
    "l.find_by_price(100,200)"
   ]
  },
  {
   "cell_type": "code",
   "execution_count": null,
   "id": "31e57f84",
   "metadata": {},
   "outputs": [],
   "source": []
  }
 ],
 "metadata": {
  "kernelspec": {
   "display_name": "Python 3 (ipykernel)",
   "language": "python",
   "name": "python3"
  },
  "language_info": {
   "codemirror_mode": {
    "name": "ipython",
    "version": 3
   },
   "file_extension": ".py",
   "mimetype": "text/x-python",
   "name": "python",
   "nbconvert_exporter": "python",
   "pygments_lexer": "ipython3",
   "version": "3.11.4"
  }
 },
 "nbformat": 4,
 "nbformat_minor": 5
}
