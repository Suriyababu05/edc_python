{
 "cells": [
  {
   "cell_type": "code",
   "execution_count": 13,
   "id": "59cb219e",
   "metadata": {},
   "outputs": [],
   "source": [
    "class Node:\n",
    "    def __init__(self, value,next=None, previous=None):\n",
    "        self._value=value\n",
    "        self._next=next\n",
    "        self._previous=previous\n",
    "        \n",
    "class LinkedList:\n",
    "    def __init__(self, *args):\n",
    "        self._first=None\n",
    "        self.append(*args)\n",
    "\n",
    "    def append(self, *args):\n",
    "        for value in args:\n",
    "            self._append(value)\n",
    "\n",
    "\n",
    "    def _append(self, value):\n",
    "        if self._first==None: # list is empty\n",
    "            self._first=Node(value)\n",
    "        else: # add to the end of a non-empty list\n",
    "            n=self._first\n",
    "            while n._next:\n",
    "                n=n._next\n",
    "            n._next=Node(value, previous=n)\n",
    "\n",
    "    #def info(self):\n",
    "    def __str__(self):\n",
    "        if self._first==None: \n",
    "            return \"LinkedList(empty)\"\n",
    "        str=\"LinkedList(\\t\"\n",
    "        n=self._first\n",
    "        while n:\n",
    "            str+=f'{n._value}\\t'\n",
    "            n=n._next\n",
    "        str+=\")\"\n",
    "        return str\n",
    "\n",
    "    #def size(self):\n",
    "    def __len__(self):\n",
    "        c=0\n",
    "        n=self._first\n",
    "        while n:\n",
    "            c+=1\n",
    "            n=n._next\n",
    "        return c\n",
    "\n",
    "    def __locate(self,index):\n",
    "        if index>=len(self):\n",
    "            raise IndexError(f'Invalid Index :{index}')\n",
    "        \n",
    "        n=self._first\n",
    "        for i in range(index):\n",
    "            n=n._next\n",
    "            \n",
    "        return n\n",
    "\n",
    "\n",
    "             \n",
    "    #def get(self,index):\n",
    "    def __getitem__(self,index):\n",
    "        n=self.__locate(index)\n",
    "        return n._value  #if n else None\n",
    "    \n",
    "\n",
    "    #def set(self,index,value):\n",
    "    def __setitem__(self,index,value):\n",
    "        n=self.__locate(index)\n",
    "        n._value=value\n",
    "\n",
    "    def insert(self, index, value):\n",
    "        y=self.__locate(index)\n",
    "        x=y._previous \n",
    "\n",
    "        new_node=Node(value,previous=x,next=y)\n",
    "        \n",
    "        if x:\n",
    "            x._next=new_node\n",
    "        else:\n",
    "            self._first=new_node\n",
    "\n",
    "        y._previous=new_node\n",
    "\n",
    "    def remove(self, index):\n",
    "        n=self.__locate(index)\n",
    "        \n",
    "        x= n._previous\n",
    "        y= n._next\n",
    "\n",
    "        if x:\n",
    "            x._next=y\n",
    "        else:\n",
    "            self._first=y\n",
    "\n",
    "        if y:\n",
    "            y._previous=x\n",
    "        return n._value"
   ]
  },
  {
   "cell_type": "code",
   "execution_count": 21,
   "id": "45563b0b",
   "metadata": {},
   "outputs": [],
   "source": [
    "def is_prime(num):\n",
    "    if num <= 1:\n",
    "        return False\n",
    "    elif num <= 3:\n",
    "        return True\n",
    "    elif num % 2 == 0 or num % 3 == 0:\n",
    "        return False\n",
    "    i = 5\n",
    "    while i * i <= num:\n",
    "        if num % i == 0 or num % (i + 2) == 0:\n",
    "            return False\n",
    "        i += 6\n",
    "    return True\n",
    "\n",
    "def findPrimes(linked_list):\n",
    "    primes = []\n",
    "    for i in range(len(linked_list)):\n",
    "        if is_prime(linked_list[i]):\n",
    "            primes.append(linked_list[i])\n",
    "    return primes"
   ]
  },
  {
   "cell_type": "code",
   "execution_count": 22,
   "id": "c54040cd",
   "metadata": {},
   "outputs": [],
   "source": [
    "ll = LinkedList()"
   ]
  },
  {
   "cell_type": "code",
   "execution_count": 23,
   "id": "d6adf8a7",
   "metadata": {},
   "outputs": [],
   "source": [
    "ll.append(2,3,4,5,6,7,8,9)"
   ]
  },
  {
   "cell_type": "code",
   "execution_count": 24,
   "id": "afda9aa8",
   "metadata": {},
   "outputs": [
    {
     "name": "stdout",
     "output_type": "stream",
     "text": [
      "LinkedList(\t2\t3\t4\t5\t6\t7\t8\t9\t)\n"
     ]
    }
   ],
   "source": [
    "print(ll)"
   ]
  },
  {
   "cell_type": "code",
   "execution_count": 25,
   "id": "bc9942a3",
   "metadata": {},
   "outputs": [
    {
     "name": "stdout",
     "output_type": "stream",
     "text": [
      "Linked list: LinkedList(\t2\t3\t4\t5\t6\t7\t8\t9\t)\n",
      "Prime numbers in the linked list: [2, 3, 5, 7]\n"
     ]
    }
   ],
   "source": [
    "prime_numbers = findPrimes(ll)\n",
    "print(\"Linked list:\", ll)\n",
    "print(\"Prime numbers in the linked list:\", prime_numbers)"
   ]
  },
  {
   "cell_type": "code",
   "execution_count": 29,
   "id": "a40e1cfc",
   "metadata": {},
   "outputs": [],
   "source": [
    "def findEvens(ll):\n",
    "    evens = []\n",
    "    for i in range(len(ll)):\n",
    "        if ll[i] % 2 == 0:\n",
    "            evens.append(ll[i])\n",
    "    return evens"
   ]
  },
  {
   "cell_type": "code",
   "execution_count": 31,
   "id": "e9a3d7db",
   "metadata": {},
   "outputs": [
    {
     "name": "stdout",
     "output_type": "stream",
     "text": [
      "Even numbers in the linked list: [2, 4, 6, 8]\n"
     ]
    }
   ],
   "source": [
    "even_nos = findEvens(ll)\n",
    "print(\"Even numbers in the linked list:\", even_nos)"
   ]
  },
  {
   "cell_type": "code",
   "execution_count": null,
   "id": "410e240e",
   "metadata": {},
   "outputs": [],
   "source": []
  }
 ],
 "metadata": {
  "kernelspec": {
   "display_name": "Python 3 (ipykernel)",
   "language": "python",
   "name": "python3"
  },
  "language_info": {
   "codemirror_mode": {
    "name": "ipython",
    "version": 3
   },
   "file_extension": ".py",
   "mimetype": "text/x-python",
   "name": "python",
   "nbconvert_exporter": "python",
   "pygments_lexer": "ipython3",
   "version": "3.11.4"
  }
 },
 "nbformat": 4,
 "nbformat_minor": 5
}
