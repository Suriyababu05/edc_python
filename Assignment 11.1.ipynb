{
 "cells": [
  {
   "cell_type": "code",
   "execution_count": 39,
   "id": "bb47ad7e",
   "metadata": {},
   "outputs": [
    {
     "name": "stdout",
     "output_type": "stream",
     "text": [
      "303\n",
      "0.029445409774780273\n"
     ]
    }
   ],
   "source": [
    "import time\n",
    "def preformance_log(fn):\n",
    "    def function(min, max):\n",
    "        start_time = time.time()\n",
    "        primes =  fn(min, max)\n",
    "        end_time = time.time()\n",
    "        # print(fn.__name__ + \" took \" + str(end_time - start_time) + \" seconds\")\n",
    "        primes.time_taken = time.time() - start_time\n",
    "        \n",
    "        return primes\n",
    "\n",
    "    return function\n",
    "def is_prime(n):\n",
    "    if n<2:\n",
    "        return False\n",
    "    for x in range(2,n):\n",
    "        if n%x==0:\n",
    "            return False\n",
    "    return True\n",
    "class custom_list(list):\n",
    "    time_taken = 0\n",
    "@preformance_log\n",
    "def find_primes(min,max):\n",
    "    primes=custom_list()\n",
    "    for x in range(min,max):\n",
    "        if is_prime(x):\n",
    "            primes.append(x)\n",
    "    return primes\n",
    "\n",
    "\n",
    "x = find_primes(2,2000)\n",
    "print(len(x))\n",
    "\n",
    "print(x.time_taken)"
   ]
  },
  {
   "cell_type": "code",
   "execution_count": 35,
   "id": "d41756ab",
   "metadata": {},
   "outputs": [],
   "source": []
  },
  {
   "cell_type": "code",
   "execution_count": null,
   "id": "fcae01ba",
   "metadata": {},
   "outputs": [],
   "source": []
  },
  {
   "cell_type": "code",
   "execution_count": null,
   "id": "77e4634d",
   "metadata": {},
   "outputs": [],
   "source": []
  },
  {
   "cell_type": "code",
   "execution_count": null,
   "id": "2cb8b594",
   "metadata": {},
   "outputs": [],
   "source": []
  }
 ],
 "metadata": {
  "kernelspec": {
   "display_name": "Python 3 (ipykernel)",
   "language": "python",
   "name": "python3"
  },
  "language_info": {
   "codemirror_mode": {
    "name": "ipython",
    "version": 3
   },
   "file_extension": ".py",
   "mimetype": "text/x-python",
   "name": "python",
   "nbconvert_exporter": "python",
   "pygments_lexer": "ipython3",
   "version": "3.11.4"
  }
 },
 "nbformat": 4,
 "nbformat_minor": 5
}
