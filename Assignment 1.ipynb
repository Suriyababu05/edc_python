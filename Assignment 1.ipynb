{
 "cells": [
  {
   "cell_type": "code",
   "execution_count": 1,
   "id": "7b896e8b",
   "metadata": {},
   "outputs": [
    {
     "name": "stdout",
     "output_type": "stream",
     "text": [
      "Hello World\n"
     ]
    }
   ],
   "source": [
    "print(\"Hello World\")"
   ]
  },
  {
   "cell_type": "code",
   "execution_count": 4,
   "id": "ec683e13",
   "metadata": {},
   "outputs": [
    {
     "name": "stdout",
     "output_type": "stream",
     "text": [
      "1 2 3\n",
      "Hello  World\n",
      "1-->2-->3-->4\n",
      "1-->2-->3-->4\t5|6|7\n"
     ]
    }
   ],
   "source": [
    "print(1,2,3)\n",
    "print(\"Hello \", \"World\")\n",
    "print(1,2,3,4, sep='-->')\n",
    "print(1,2,3,4, end='\\t', sep='-->')\n",
    "print(5,6,7,sep='|')"
   ]
  },
  {
   "cell_type": "code",
   "execution_count": 69,
   "id": "99c1ff03",
   "metadata": {},
   "outputs": [
    {
     "name": "stdout",
     "output_type": "stream",
     "text": [
      "Enter the number of values you want to compare: 2\n",
      "Enter number 1: 5\n",
      "Enter number 2: 5\n",
      "The largest number among the 2 numbers is: 5.0\n"
     ]
    }
   ],
   "source": [
    "\n",
    "largest = None\n",
    "\n",
    "n = int(input(\"Enter the number of values you want to compare: \"))\n",
    "\n",
    "for i in range(n):\n",
    "        num = float(input(f\"Enter number {i+1}: \"))\n",
    "        if largest==None or num > largest:\n",
    "            largest = num\n",
    "\n",
    "print(f\"The largest number among the {n} numbers is: {largest}\")"
   ]
  },
  {
   "cell_type": "code",
   "execution_count": 74,
   "id": "3ee501ee",
   "metadata": {},
   "outputs": [
    {
     "name": "stdout",
     "output_type": "stream",
     "text": [
      "Enter the number of values: 3\n",
    "
     ]
    }
   ],
   "source": [
    "n = int(input(\"Enter the number of values: \"))\n",
    "\n",
    "\n",
    "largest = num\n",
    "second_largest =None\n",
    "\n",
    "\n",
    "for i in range(n):\n",
    "    num = float(input(f\"Enter number {i+1}: \"))\n",
    "    \n",
    "    if num > largest:\n",
    "        second_largest = largest\n",
    "        largest = num\n",
    "    elif num > second_largest and num != largest:\n",
    "        second_largest = num\n",
    "\n",
    "\n",
    "print(f\"The second largest number among the {n} numbers is: {second_largest}\")"
   ]
  },
  {
   "cell_type": "code",
   "execution_count": 45,
   "id": "5e787e3f",
   "metadata": {},
   "outputs": [
    {
     "name": "stdout",
     "output_type": "stream",
     "text": [
      "Prime numbers between 2 and 20 are:\n",
      "2\n",
      "3\n",
      "5\n",
      "7\n",
      "11\n",
      "13\n",
      "17\n",
      "19\n"
     ]
    }
   ],
   "source": [
    "min = 2\n",
    "\n",
    "max = 20\n",
    "            \n",
    "print(\"Prime numbers between\", min , \"and\", max , \"are:\")\n",
    "for num in range(min , max + 1):\n",
    "    if num > 1:\n",
    "        for i in range(2, num):\n",
    "            if (num % i) == 0:\n",
    "                break\n",
    "        else:\n",
    "                print(num)"
   ]
  },
  {
   "cell_type": "code",
   "execution_count": 46,
   "id": "7cf81abb",
   "metadata": {},
   "outputs": [
    {
     "name": "stdout",
     "output_type": "stream",
     "text": [
      "Enter the minimum value: 2\n",
      "Enter the maximum value: 5\n",
      "Prime numbers between 2 and 5:\n",
      "2 3 5 "
     ]
    }
   ],
   "source": [
    "def is_prime(num):\n",
    "    if num <= 1:\n",
    "        return False\n",
    "    if num <= 3:\n",
    "        return True\n",
    "    if num % 2 == 0 or num % 3 == 0:\n",
    "        return False\n",
    "    i = 5\n",
    "    while i * i <= num:\n",
    "        if num % i == 0 or num % (i + 2) == 0:\n",
    "            return False\n",
    "        i += 6\n",
    "    return True\n",
    "\n",
    "def find_primes_in_range(min, max):\n",
    "    print(f\"Prime numbers between {min} and {max}:\")\n",
    "    for num in range(min, max + 1):\n",
    "        if is_prime(num):\n",
    "            print(num, end=\" \")\n",
    "\n",
    "\n",
    "min_range = int(input(\"Enter the minimum value: \"))\n",
    "max_range = int(input(\"Enter the maximum value: \"))\n",
    "find_primes_in_range(min_range, max_range)"
   ]
  },
  {
   "cell_type": "code",
   "execution_count": 59,
   "id": "b1922f16",
   "metadata": {},
   "outputs": [
    {
     "name": "stdout",
     "output_type": "stream",
     "text": [
      "Enter the day: 05\n",
      "Enter the month: 12\n",
      "Enter the year: 2001\n",
      "The weekday for 5/12/2001 is Wednesday.\n"
     ]
    }
   ],
   "source": [
    "def find_weekday(day, month, year):\n",
    "    days_of_week = [\"Sunday\", \"Monday\", \"Tuesday\", \"Wednesday\", \"Thursday\", \"Friday\", \"Saturday\"]\n",
    "\n",
    "    ref_day, ref_month, ref_year = 1, 1, 2004\n",
    "    ref_weekday = 0\n",
    "    days_in_month = [0, 31, 28, 31, 30, 31, 30, 31, 31, 30, 31, 30, 31]\n",
    "\n",
    "    \n",
    "    if (year % 4 == 0 and year % 100 != 0) or (year % 400 == 0):\n",
    "        days_in_month[2] = 29  \n",
    "\n",
    "    total_days = 0\n",
    "\n",
    "    for y in range(ref_year, year):\n",
    "        if (y % 4 == 0 and y % 100 != 0) or (y % 400 == 0):\n",
    "            total_days += 366  # Leap Year\n",
    "        else:\n",
    "            total_days += 365  # Non-leap year\n",
    "\n",
    "    \n",
    "    for m in range(1, month):\n",
    "        total_days += days_in_month[m]\n",
    "\n",
    "    \n",
    "    total_days += day\n",
    "\n",
    "   \n",
    "    weekday = (ref_weekday + total_days) % 7\n",
    "\n",
    "    return days_of_week[weekday]\n",
    "\n",
    "\n",
    "day = int(input(\"Enter the day: \"))\n",
    "month = int(input(\"Enter the month: \"))\n",
    "year = int(input(\"Enter the year: \"))\n",
    "\n",
    "weekday = find_weekday(day, month, year)\n",
    "print(f\"The weekday for {day}/{month}/{year} is {weekday}.\")"
   ]
  },
  {
   "cell_type": "code",
   "execution_count": null,
   "id": "45107218",
   "metadata": {},
   "outputs": [],
   "source": []
  },
  {
   "cell_type": "code",
   "execution_count": null,
   "id": "f44311d9",
   "metadata": {},
   "outputs": [],
   "source": []
  }
 ],
 "metadata": {
  "kernelspec": {
   "display_name": "Python 3 (ipykernel)",
   "language": "python",
   "name": "python3"
  },
  "language_info": {
   "codemirror_mode": {
    "name": "ipython",
    "version": 3
   },
   "file_extension": ".py",
   "mimetype": "text/x-python",
   "name": "python",
   "nbconvert_exporter": "python",
   "pygments_lexer": "ipython3",
   "version": "3.11.4"
  }
 },
 "nbformat": 4,
 "nbformat_minor": 5
}
