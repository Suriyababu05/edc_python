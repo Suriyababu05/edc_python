{
 "cells": [
  {
   "cell_type": "code",
   "execution_count": 1,
   "id": "e45a4fb0",
   "metadata": {},
   "outputs": [
    {
     "name": "stdout",
     "output_type": "stream",
     "text": [
      "2|++++ ++++ ++++ \n",
      "5|++++ \n",
      "4|++++ ++++ ++++ ++++ ++++ ++++ ++++ \n"
     ]
    }
   ],
   "source": [
    "def plot_histogram(frequency_table,design,show,align):\n",
    "    b=max(frequency_table.values())\n",
    "    for (item,frequency) in frequency_table.items():\n",
    "        if(align==\"True\" and show==\"True\"):\n",
    "            print(f'{item}|{(design+\" \")*frequency}',end=\"\")\n",
    "            print(((len(design)+1)*\" \")*(b-frequency),frequency)\n",
    "        elif(align==\"False\" and show==\"True\"):\n",
    "            print(f'{item}|{(design+\" \")*frequency}',frequency)\n",
    "        else:\n",
    "            print(f'{item}|{(design+\" \")*frequency}')\n",
    "\n",
    "plot_histogram({2:3,5:1,4:7},design='++++',show=\"False\",align=\"True\")"
   ]
  },
  {
   "cell_type": "code",
   "execution_count": null,
   "id": "9cf6d471",
   "metadata": {},
   "outputs": [],
   "source": []
  }
 ],
 "metadata": {
  "kernelspec": {
   "display_name": "Python 3 (ipykernel)",
   "language": "python",
   "name": "python3"
  },
  "language_info": {
   "codemirror_mode": {
    "name": "ipython",
    "version": 3
   },
   "file_extension": ".py",
   "mimetype": "text/x-python",
   "name": "python",
   "nbconvert_exporter": "python",
   "pygments_lexer": "ipython3",
   "version": "3.11.4"
  }
 },
 "nbformat": 4,
 "nbformat_minor": 5
}
